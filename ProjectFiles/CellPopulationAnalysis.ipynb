{
  "nbformat": 4,
  "nbformat_minor": 0,
  "metadata": {
    "colab": {
      "provenance": []
    },
    "kernelspec": {
      "name": "python3",
      "display_name": "Python 3"
    },
    "language_info": {
      "name": "python"
    }
  },
  "cells": [
    {
      "cell_type": "markdown",
      "source": [
        "# Cell Population Analysis\n",
        "This Jupyter Notebook contains the code to analyze cell populations given in the file cell-count.csv. There are two parts, 1: computing the relative frequencies and generating the output .csv file, and 2: patient response analysis.\n",
        "\n",
        "To recreate my outputs: the .csv file and the boxplot, run all cells."
      ],
      "metadata": {
        "id": "q9kHGbOGtei5"
      }
    },
    {
      "cell_type": "markdown",
      "source": [
        "## Part 1: Compute the Relative Frequencies"
      ],
      "metadata": {
        "id": "PUkA4viuvRvo"
      }
    },
    {
      "cell_type": "code",
      "execution_count": null,
      "metadata": {
        "id": "kdEfN--ps0le"
      },
      "outputs": [],
      "source": [
        "import pandas as pd"
      ]
    },
    {
      "cell_type": "code",
      "source": [
        "cellCountDF = pd.read_csv(\"cell-count.csv\")"
      ],
      "metadata": {
        "id": "GU7rORXdtTUA"
      },
      "execution_count": 35,
      "outputs": []
    },
    {
      "cell_type": "markdown",
      "source": [
        "#### Generate the output data:\n",
        "I created a small array of each cell's populations to elegantly access the data frame for the computation of total and relative frequency for each sample.\n",
        "\n",
        "Reminder that the output csv file should be in the format: sample, total_count, population, count, percentage"
      ],
      "metadata": {
        "id": "IO6evAIb02o-"
      }
    },
    {
      "cell_type": "code",
      "source": [
        "# Collecting the output in a list is more computationally friendly than in a dataframe\n",
        "outputData = []\n",
        "for index, sample in cellCountDF.iterrows():\n",
        "  populations = ['b_cell', 'cd8_t_cell', 'cd4_t_cell', 'nk_cell', 'monocyte']\n",
        "  total = 0\n",
        "\n",
        "  for population in populations:\n",
        "    total += sample[population]\n",
        "\n",
        "  for population in populations:\n",
        "    outputData.append([\n",
        "        sample['sample'],\n",
        "        total,\n",
        "        population,\n",
        "        sample[population],\n",
        "        round((sample[population] / total * 100), 2)\n",
        "    ])\n",
        "\n",
        "outputDF = pd.DataFrame(outputData, columns=['sample', 'total_count', 'population', 'count', 'percentage'])"
      ],
      "metadata": {
        "id": "crHF8Vq-vGzp"
      },
      "execution_count": 39,
      "outputs": []
    },
    {
      "cell_type": "markdown",
      "source": [
        "Because this type of data may be used in high-stakes contexts like medicine or clinical trials, I included a few tests to ensure correctness of the output before exporting."
      ],
      "metadata": {
        "id": "oPb3U5P0-Viw"
      }
    },
    {
      "cell_type": "code",
      "source": [
        "'''Agreement tests, ensuring internal consistency (not necessarily correctness)'''\n",
        "\n",
        "# Ensure that total_count agrees with the sum of each sample's population counts\n",
        "for sample_id in outputDF['sample'].unique():\n",
        "  sample_rows = outputDF[outputDF['sample'] == sample_id]\n",
        "  total = sample_rows['total_count'].values[0]\n",
        "  count_sum = sample_rows['count'].sum()\n",
        "  assert total == count_sum, f\"Mismatch in total for {sample_id}\"\n",
        "\n",
        "\n",
        "# Ensure that every percentage adds up to 100, also checks for floating point inaccuracy\n",
        "for sample_id in outputDF['sample'].unique():\n",
        "  sample_rows = outputDF[outputDF['sample'] == sample_id]\n",
        "  percentage_sum = sample_rows['percentage'].sum()\n",
        "  assert percentage_sum == 100, f\"Mismatch in percentages for {sample_id}\"\n",
        "\n",
        "'''Correctness test'''\n",
        "\n",
        "# Ensure that s9's total and relative frequencies are as expected per the input\n",
        "s9 = outputDF[outputDF['sample'] == 's9']\n",
        "assert(s9['total_count'].values[0] == 130000)\n",
        "\n",
        "expectedFrequencies = [\n",
        "    round(45500 / 130000 * 100, 2),\n",
        "    round(27300 / 130000 * 100, 2),\n",
        "    round(32500 / 130000 * 100, 2),\n",
        "    round(6500 / 130000 * 100, 2),\n",
        "    round(18200 / 130000 * 100, 2)\n",
        "    ]\n",
        "\n",
        "assert(s9['percentage'].tolist() == expectedFrequencies)"
      ],
      "metadata": {
        "id": "Y7WE-ZQ0-VMY"
      },
      "execution_count": 74,
      "outputs": []
    },
    {
      "cell_type": "code",
      "source": [
        "# Generate the output csv file from the output data\n",
        "outputDF.to_csv('output.csv', index=False)"
      ],
      "metadata": {
        "id": "k3aGu-a3vNhC"
      },
      "execution_count": 75,
      "outputs": []
    },
    {
      "cell_type": "code",
      "source": [],
      "metadata": {
        "id": "O3wRB7Hy_emn"
      },
      "execution_count": null,
      "outputs": []
    }
  ]
}