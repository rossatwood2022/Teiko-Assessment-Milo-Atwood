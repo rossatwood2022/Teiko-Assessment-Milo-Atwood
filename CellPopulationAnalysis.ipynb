{
  "nbformat": 4,
  "nbformat_minor": 0,
  "metadata": {
    "colab": {
      "provenance": []
    },
    "kernelspec": {
      "name": "python3",
      "display_name": "Python 3"
    },
    "language_info": {
      "name": "python"
    }
  },
  "cells": [
    {
      "cell_type": "markdown",
      "source": [
        "# Cell Population Analysis\n",
        "This Jupyter Notebook contains the code to analyze cell populations given in the file cell-count.csv. There are two parts, 1: computing the relative frequencies and generating the output .csv file, and 2: patient response analysis.\n",
        "\n",
        "To recreate my outputs: the .csv file and the boxplot, run all cells."
      ],
      "metadata": {
        "id": "q9kHGbOGtei5"
      }
    },
    {
      "cell_type": "markdown",
      "source": [
        "## Part 1: Compute the Relative Frequencies"
      ],
      "metadata": {
        "id": "PUkA4viuvRvo"
      }
    },
    {
      "cell_type": "code",
      "execution_count": null,
      "metadata": {
        "id": "kdEfN--ps0le"
      },
      "outputs": [],
      "source": [
        "import pandas as pd"
      ]
    },
    {
      "cell_type": "code",
      "source": [
        "# Import the data into a pandas dataframe\n",
        "cellCountDF = pd.read_csv(\"cell-count.csv\")"
      ],
      "metadata": {
        "id": "GU7rORXdtTUA"
      },
      "execution_count": 8,
      "outputs": []
    },
    {
      "cell_type": "markdown",
      "source": [
        "#### Generate the output data:\n",
        "I created a small array of each cell's populations to elegantly access the data frame for the computation of total and relative frequency for each sample.\n",
        "\n",
        "Reminder that the output csv file should be in the format: sample, total_count, population, count, percentage"
      ],
      "metadata": {
        "id": "IO6evAIb02o-"
      }
    },
    {
      "cell_type": "code",
      "source": [
        "# Collecting the output in a list is more computationally friendly than in a dataframe\n",
        "outputData = []\n",
        "for index, sample in cellCountDF.iterrows():\n",
        "  populations = ['b_cell', 'cd8_t_cell', 'cd4_t_cell', 'nk_cell', 'monocyte']\n",
        "  total = 0\n",
        "\n",
        "  for population in populations:\n",
        "    total += sample[population]\n",
        "\n",
        "  for population in populations:\n",
        "    outputData.append([\n",
        "        sample['sample'],\n",
        "        total,\n",
        "        population,\n",
        "        sample[population],\n",
        "        round((sample[population] / total * 100), 2)\n",
        "    ])"
      ],
      "metadata": {
        "id": "crHF8Vq-vGzp"
      },
      "execution_count": 32,
      "outputs": []
    },
    {
      "cell_type": "code",
      "source": [
        "# Generate the output csv file from the output data\n",
        "outputDF = pd.DataFrame(outputData, columns=['sample', 'total_count', 'population', 'count', 'percentage'])\n",
        "outputDF.to_csv('output.csv', index=False)"
      ],
      "metadata": {
        "id": "k3aGu-a3vNhC"
      },
      "execution_count": 34,
      "outputs": []
    }
  ]
}