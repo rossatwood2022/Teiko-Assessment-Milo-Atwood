{
  "nbformat": 4,
  "nbformat_minor": 0,
  "metadata": {
    "colab": {
      "provenance": []
    },
    "kernelspec": {
      "name": "python3",
      "display_name": "Python 3"
    },
    "language_info": {
      "name": "python"
    }
  },
  "cells": [
    {
      "cell_type": "markdown",
      "source": [
        "# Cell Population Analysis\n",
        "This Jupyter Notebook contains the code to analyze cell populations given in the file cell-count.csv. There are two parts, 1: computing the relative frequencies and generating the output .csv file, and 2: patient response analysis.\n",
        "\n",
        "To recreate my outputs: the .csv file and the boxplot, run all cells."
      ],
      "metadata": {
        "id": "q9kHGbOGtei5"
      }
    },
    {
      "cell_type": "markdown",
      "source": [
        "## Part 1: Compute the Relative Frequencies"
      ],
      "metadata": {
        "id": "PUkA4viuvRvo"
      }
    },
    {
      "cell_type": "code",
      "execution_count": null,
      "metadata": {
        "id": "kdEfN--ps0le"
      },
      "outputs": [],
      "source": [
        "import pandas as pd"
      ]
    },
    {
      "cell_type": "code",
      "source": [
        "# Import the data into an array"
      ],
      "metadata": {
        "id": "GU7rORXdtTUA"
      },
      "execution_count": 2,
      "outputs": []
    },
    {
      "cell_type": "code",
      "source": [
        "# Generate the output data (compute total cells for a sample, population cell count, and population relative frequency)"
      ],
      "metadata": {
        "id": "crHF8Vq-vGzp"
      },
      "execution_count": 3,
      "outputs": []
    },
    {
      "cell_type": "code",
      "source": [
        "# Generate the output csv file from the output data"
      ],
      "metadata": {
        "id": "k3aGu-a3vNhC"
      },
      "execution_count": 4,
      "outputs": []
    }
  ]
}